{
 "cells": [
  {
   "cell_type": "code",
   "execution_count": 1,
   "id": "a0d123fc",
   "metadata": {},
   "outputs": [],
   "source": [
    "# Import all the necessary packages"
   ]
  },
  {
   "cell_type": "code",
   "execution_count": 2,
   "id": "adcccae3",
   "metadata": {},
   "outputs": [],
   "source": [
    "import numpy as np\n",
    "import pandas as pd\n",
    "import matplotlib.pyplot as plt\n",
    "import seaborn as sns\n",
    "from warnings import filterwarnings\n",
    "filterwarnings('ignore')"
   ]
  },
  {
   "cell_type": "code",
   "execution_count": 3,
   "id": "1ab9551d",
   "metadata": {},
   "outputs": [
    {
     "name": "stdout",
     "output_type": "stream",
     "text": [
      "5\n"
     ]
    }
   ],
   "source": [
    "print(5)"
   ]
  },
  {
   "cell_type": "code",
   "execution_count": 4,
   "id": "55bd0318",
   "metadata": {},
   "outputs": [
    {
     "name": "stderr",
     "output_type": "stream",
     "text": [
      "b'Skipping line 41589: expected 4 fields, saw 11\\nSkipping line 51628: expected 4 fields, saw 7\\nSkipping line 114465: expected 4 fields, saw 5\\n'\n",
      "b'Skipping line 142496: expected 4 fields, saw 8\\nSkipping line 189732: expected 4 fields, saw 6\\nSkipping line 245218: expected 4 fields, saw 7\\n'\n",
      "b'Skipping line 388430: expected 4 fields, saw 5\\n'\n"
     ]
    }
   ],
   "source": [
    "all_comment = pd.read_csv('UScomments.csv', error_bad_lines= False)"
   ]
  },
  {
   "cell_type": "code",
   "execution_count": 5,
   "id": "f9719ede",
   "metadata": {
    "scrolled": true
   },
   "outputs": [
    {
     "data": {
      "text/html": [
       "<div>\n",
       "<style scoped>\n",
       "    .dataframe tbody tr th:only-of-type {\n",
       "        vertical-align: middle;\n",
       "    }\n",
       "\n",
       "    .dataframe tbody tr th {\n",
       "        vertical-align: top;\n",
       "    }\n",
       "\n",
       "    .dataframe thead th {\n",
       "        text-align: right;\n",
       "    }\n",
       "</style>\n",
       "<table border=\"1\" class=\"dataframe\">\n",
       "  <thead>\n",
       "    <tr style=\"text-align: right;\">\n",
       "      <th></th>\n",
       "      <th>video_id</th>\n",
       "      <th>comment_text</th>\n",
       "      <th>likes</th>\n",
       "      <th>replies</th>\n",
       "    </tr>\n",
       "  </thead>\n",
       "  <tbody>\n",
       "    <tr>\n",
       "      <th>0</th>\n",
       "      <td>XpVt6Z1Gjjo</td>\n",
       "      <td>Logan Paul it's yo big day ‼️‼️‼️</td>\n",
       "      <td>4</td>\n",
       "      <td>0</td>\n",
       "    </tr>\n",
       "    <tr>\n",
       "      <th>1</th>\n",
       "      <td>XpVt6Z1Gjjo</td>\n",
       "      <td>I've been following you from the start of your...</td>\n",
       "      <td>3</td>\n",
       "      <td>0</td>\n",
       "    </tr>\n",
       "    <tr>\n",
       "      <th>2</th>\n",
       "      <td>XpVt6Z1Gjjo</td>\n",
       "      <td>Say hi to Kong and maverick for me</td>\n",
       "      <td>3</td>\n",
       "      <td>0</td>\n",
       "    </tr>\n",
       "    <tr>\n",
       "      <th>3</th>\n",
       "      <td>XpVt6Z1Gjjo</td>\n",
       "      <td>MY FAN . attendance</td>\n",
       "      <td>3</td>\n",
       "      <td>0</td>\n",
       "    </tr>\n",
       "    <tr>\n",
       "      <th>4</th>\n",
       "      <td>XpVt6Z1Gjjo</td>\n",
       "      <td>trending 😉</td>\n",
       "      <td>3</td>\n",
       "      <td>0</td>\n",
       "    </tr>\n",
       "    <tr>\n",
       "      <th>...</th>\n",
       "      <td>...</td>\n",
       "      <td>...</td>\n",
       "      <td>...</td>\n",
       "      <td>...</td>\n",
       "    </tr>\n",
       "    <tr>\n",
       "      <th>691395</th>\n",
       "      <td>EoejGgUNmVU</td>\n",
       "      <td>Лучшая</td>\n",
       "      <td>1</td>\n",
       "      <td>0</td>\n",
       "    </tr>\n",
       "    <tr>\n",
       "      <th>691396</th>\n",
       "      <td>EoejGgUNmVU</td>\n",
       "      <td>qu'est ce que j'aimerais que tu viennes à Roan...</td>\n",
       "      <td>0</td>\n",
       "      <td>0</td>\n",
       "    </tr>\n",
       "    <tr>\n",
       "      <th>691397</th>\n",
       "      <td>EoejGgUNmVU</td>\n",
       "      <td>Ven a mexico! 😍 te amo LP</td>\n",
       "      <td>0</td>\n",
       "      <td>0</td>\n",
       "    </tr>\n",
       "    <tr>\n",
       "      <th>691398</th>\n",
       "      <td>EoejGgUNmVU</td>\n",
       "      <td>Islığı yeter...</td>\n",
       "      <td>0</td>\n",
       "      <td>0</td>\n",
       "    </tr>\n",
       "    <tr>\n",
       "      <th>691399</th>\n",
       "      <td>EoejGgUNmVU</td>\n",
       "      <td>Kocham tą piosenkę😍❤❤❤byłam zakochana po uszy ...</td>\n",
       "      <td>0</td>\n",
       "      <td>0</td>\n",
       "    </tr>\n",
       "  </tbody>\n",
       "</table>\n",
       "<p>691400 rows × 4 columns</p>\n",
       "</div>"
      ],
      "text/plain": [
       "           video_id                                       comment_text likes  \\\n",
       "0       XpVt6Z1Gjjo                  Logan Paul it's yo big day ‼️‼️‼️     4   \n",
       "1       XpVt6Z1Gjjo  I've been following you from the start of your...     3   \n",
       "2       XpVt6Z1Gjjo                 Say hi to Kong and maverick for me     3   \n",
       "3       XpVt6Z1Gjjo                                MY FAN . attendance     3   \n",
       "4       XpVt6Z1Gjjo                                         trending 😉     3   \n",
       "...             ...                                                ...   ...   \n",
       "691395  EoejGgUNmVU                                             Лучшая     1   \n",
       "691396  EoejGgUNmVU  qu'est ce que j'aimerais que tu viennes à Roan...     0   \n",
       "691397  EoejGgUNmVU                          Ven a mexico! 😍 te amo LP     0   \n",
       "691398  EoejGgUNmVU                                    Islığı yeter...     0   \n",
       "691399  EoejGgUNmVU  Kocham tą piosenkę😍❤❤❤byłam zakochana po uszy ...     0   \n",
       "\n",
       "       replies  \n",
       "0            0  \n",
       "1            0  \n",
       "2            0  \n",
       "3            0  \n",
       "4            0  \n",
       "...        ...  \n",
       "691395       0  \n",
       "691396       0  \n",
       "691397       0  \n",
       "691398       0  \n",
       "691399       0  \n",
       "\n",
       "[691400 rows x 4 columns]"
      ]
     },
     "execution_count": 5,
     "metadata": {},
     "output_type": "execute_result"
    }
   ],
   "source": [
    "# This is the sample of comments from US YouTube for each video:\n",
    "all_comment"
   ]
  },
  {
   "cell_type": "code",
   "execution_count": 6,
   "id": "e3b0837f",
   "metadata": {},
   "outputs": [
    {
     "name": "stdout",
     "output_type": "stream",
     "text": [
      "<class 'pandas.core.frame.DataFrame'>\n",
      "RangeIndex: 691400 entries, 0 to 691399\n",
      "Data columns (total 4 columns):\n",
      " #   Column        Non-Null Count   Dtype \n",
      "---  ------        --------------   ----- \n",
      " 0   video_id      691400 non-null  object\n",
      " 1   comment_text  691375 non-null  object\n",
      " 2   likes         691400 non-null  object\n",
      " 3   replies       691400 non-null  object\n",
      "dtypes: object(4)\n",
      "memory usage: 21.1+ MB\n"
     ]
    }
   ],
   "source": [
    "# Finding out missing values in the data:\n",
    "all_comment.info()"
   ]
  },
  {
   "cell_type": "code",
   "execution_count": 7,
   "id": "674f8b61",
   "metadata": {},
   "outputs": [],
   "source": [
    "# Drop mmissing values:\n",
    "all_comment.dropna(inplace = True)"
   ]
  },
  {
   "cell_type": "code",
   "execution_count": 8,
   "id": "ac67fac1",
   "metadata": {},
   "outputs": [
    {
     "data": {
      "text/plain": [
       "video_id        0\n",
       "comment_text    0\n",
       "likes           0\n",
       "replies         0\n",
       "dtype: int64"
      ]
     },
     "execution_count": 8,
     "metadata": {},
     "output_type": "execute_result"
    }
   ],
   "source": [
    "all_comment.isnull().sum()\n",
    "# There is no null value in the data"
   ]
  },
  {
   "cell_type": "markdown",
   "id": "06a55503",
   "metadata": {},
   "source": [
    "### 1.Analyse the positive and negative comments with TextBlob and WordCloud:"
   ]
  },
  {
   "cell_type": "code",
   "execution_count": 9,
   "id": "130ebcc4",
   "metadata": {},
   "outputs": [],
   "source": [
    "# Using TextBlob to create positive and negative comments in the data:"
   ]
  },
  {
   "cell_type": "code",
   "execution_count": 10,
   "id": "deed6412",
   "metadata": {},
   "outputs": [],
   "source": [
    "from textblob import TextBlob"
   ]
  },
  {
   "cell_type": "code",
   "execution_count": 11,
   "id": "05034a80",
   "metadata": {},
   "outputs": [
    {
     "data": {
      "text/plain": [
       "0.75"
      ]
     },
     "execution_count": 11,
     "metadata": {},
     "output_type": "execute_result"
    }
   ],
   "source": [
    "# Example:\n",
    "TextBlob('so good happy for you').sentiment.polarity"
   ]
  },
  {
   "cell_type": "code",
   "execution_count": null,
   "id": "deae42db",
   "metadata": {},
   "outputs": [],
   "source": [
    "# Create a column that contains the polarity of each comment:\n",
    "polarity = []\n",
    "for comment in all_comment['comment_text']:\n",
    "    try:\n",
    "        polarity.append(TextBlob(comment).sentiment.polarity)\n",
    "    except:\n",
    "        polarity.append(0)\n",
    "        "
   ]
  },
  {
   "cell_type": "code",
   "execution_count": null,
   "id": "90ff87fe",
   "metadata": {},
   "outputs": [],
   "source": [
    "all_comment['polarity'] = polarity"
   ]
  },
  {
   "cell_type": "code",
   "execution_count": null,
   "id": "c18dcb52",
   "metadata": {},
   "outputs": [],
   "source": [
    "all_comment.head()"
   ]
  },
  {
   "cell_type": "code",
   "execution_count": null,
   "id": "5693548e",
   "metadata": {},
   "outputs": [],
   "source": [
    "cmt_positive = all_comment[all_comment['polarity'] == 1]\n",
    "cmt_negative = all_comment[all_comment['polarity'] == -1]"
   ]
  },
  {
   "cell_type": "code",
   "execution_count": null,
   "id": "657fc50a",
   "metadata": {},
   "outputs": [],
   "source": [
    "# This is the data where comments are positive (polarity = 1.0)\n",
    "cmt_positive.head()"
   ]
  },
  {
   "cell_type": "code",
   "execution_count": null,
   "id": "019e5336",
   "metadata": {},
   "outputs": [],
   "source": [
    "# And this is the data of negative comments (polarity = -1.0)\n",
    "cmt_negative.head()"
   ]
  },
  {
   "cell_type": "code",
   "execution_count": null,
   "id": "406f7afb",
   "metadata": {},
   "outputs": [],
   "source": [
    "# Using WordCloud to show which words are used the most in positive and negative comments:"
   ]
  },
  {
   "cell_type": "code",
   "execution_count": null,
   "id": "fd43a9b6",
   "metadata": {},
   "outputs": [],
   "source": [
    "from wordcloud import WordCloud, STOPWORDS"
   ]
  },
  {
   "cell_type": "code",
   "execution_count": null,
   "id": "0565f416",
   "metadata": {},
   "outputs": [],
   "source": [
    "total_cmt_p = ''.join(cmt_positive['comment_text'])\n",
    "total_cmt_n = ''.join(cmt_negative['comment_text'])"
   ]
  },
  {
   "cell_type": "code",
   "execution_count": null,
   "id": "bc8f1d79",
   "metadata": {},
   "outputs": [],
   "source": [
    "wordcloud = WordCloud(stopwords= set(STOPWORDS)).generate(total_cmt_p)\n",
    "plt.figure(figsize = (12,5))\n",
    "plt.imshow(wordcloud)\n",
    "plt.axis('off')\n",
    "plt.savefig('positive')"
   ]
  },
  {
   "cell_type": "code",
   "execution_count": null,
   "id": "a629c977",
   "metadata": {
    "scrolled": true
   },
   "outputs": [],
   "source": [
    "wordcloud = WordCloud(stopwords= set(STOPWORDS)).generate(total_cmt_n)\n",
    "plt.figure(figsize = (12,5))\n",
    "plt.imshow(wordcloud)\n",
    "plt.axis('off')\n",
    "plt.savefig('negative')"
   ]
  },
  {
   "cell_type": "markdown",
   "id": "7feda75e",
   "metadata": {},
   "source": [
    "### 2.Performing Emoji analysis"
   ]
  },
  {
   "cell_type": "code",
   "execution_count": null,
   "id": "4a80b91a",
   "metadata": {},
   "outputs": [],
   "source": [
    "import emoji"
   ]
  },
  {
   "cell_type": "code",
   "execution_count": null,
   "id": "58e11eb4",
   "metadata": {},
   "outputs": [],
   "source": [
    "# Creat a list of all emoji used in the comments\n",
    "emoji_list = []\n",
    "for comment in all_comment['comment_text']:\n",
    "    for char in comment:\n",
    "        if char in emoji.UNICODE_EMOJI_ENGLISH:\n",
    "            emoji_list.append(char)"
   ]
  },
  {
   "cell_type": "code",
   "execution_count": null,
   "id": "431a864d",
   "metadata": {},
   "outputs": [],
   "source": [
    "from collections import Counter\n",
    "# This library help us to count the emoji values."
   ]
  },
  {
   "cell_type": "code",
   "execution_count": null,
   "id": "446f7a39",
   "metadata": {},
   "outputs": [],
   "source": [
    "common_emo = Counter(emoji_list).most_common(10)\n",
    "# Count and extract top 10 common emoji used."
   ]
  },
  {
   "cell_type": "code",
   "execution_count": null,
   "id": "908f601b",
   "metadata": {},
   "outputs": [],
   "source": [
    "common_emo"
   ]
  },
  {
   "cell_type": "code",
   "execution_count": null,
   "id": "12822027",
   "metadata": {},
   "outputs": [],
   "source": [
    "emo = [common_emo[i][0] for i in range(10)]\n",
    "emo\n",
    "# Take out 10 emoji for x-axis values."
   ]
  },
  {
   "cell_type": "code",
   "execution_count": null,
   "id": "cf66a1c0",
   "metadata": {},
   "outputs": [],
   "source": [
    "freq = [common_emo[i][1] for i in range(10)]\n",
    "freq\n",
    "# Take out their count for y-axis values."
   ]
  },
  {
   "cell_type": "code",
   "execution_count": null,
   "id": "ced9c09e",
   "metadata": {},
   "outputs": [],
   "source": [
    "# Now we have x-axis and y-axis so this is time for building a bar chart.\n",
    "import plotly.graph_objs as go\n",
    "from plotly.offline import iplot"
   ]
  },
  {
   "cell_type": "code",
   "execution_count": null,
   "id": "27c0a20c",
   "metadata": {},
   "outputs": [],
   "source": [
    "trace = go.Bar(x = emo, y = freq)\n",
    "iplot([trace])"
   ]
  },
  {
   "cell_type": "markdown",
   "id": "349e844e",
   "metadata": {},
   "source": [
    "#### Comment: As we can see, most of them are happy, like, encourage... emoji. We can see that viewers use more emoji when they love the video. The more they use emoji, the more they love your video. If people didnt use emoji in their comment, you can consider that if they don't like your video or not."
   ]
  },
  {
   "cell_type": "markdown",
   "id": "043c1ac6",
   "metadata": {},
   "source": [
    "### (*) Collecting the YouTube video data"
   ]
  },
  {
   "cell_type": "code",
   "execution_count": null,
   "id": "519da7c9",
   "metadata": {},
   "outputs": [],
   "source": [
    "# Import the additional video data first."
   ]
  },
  {
   "cell_type": "code",
   "execution_count": null,
   "id": "d3be85ef",
   "metadata": {},
   "outputs": [],
   "source": [
    "# To do this we need OS library to take the all the file name we want:\n",
    "import os"
   ]
  },
  {
   "cell_type": "code",
   "execution_count": null,
   "id": "d79ab0fd",
   "metadata": {},
   "outputs": [],
   "source": [
    "path = r'./additional_data'"
   ]
  },
  {
   "cell_type": "code",
   "execution_count": null,
   "id": "c829a764",
   "metadata": {},
   "outputs": [],
   "source": [
    "file_name = os.listdir(path)\n",
    "file_name\n",
    "# Here are all the file name we want (This dataset only contain YouTube video data in some developed countries, not all the world)"
   ]
  },
  {
   "cell_type": "code",
   "execution_count": null,
   "id": "8b306caf",
   "metadata": {},
   "outputs": [],
   "source": [
    "len(file_name)"
   ]
  },
  {
   "cell_type": "code",
   "execution_count": null,
   "id": "bfeea1ab",
   "metadata": {},
   "outputs": [],
   "source": [
    "file_csv = [file_name[i] for i in range(0,20,2)]\n",
    "file_csv"
   ]
  },
  {
   "cell_type": "code",
   "execution_count": null,
   "id": "69556e03",
   "metadata": {},
   "outputs": [],
   "source": [
    "df = pd.DataFrame()\n",
    "for file in file_csv:\n",
    "    current_df = pd.read_csv(path + '/' + file, error_bad_lines= False, encoding='iso-8859-1')\n",
    "    # We need 'iso-8859-1' to encode the data  here to prevent errors.\n",
    "    df = pd.concat([df, current_df])"
   ]
  },
  {
   "cell_type": "code",
   "execution_count": null,
   "id": "6ce52e46",
   "metadata": {},
   "outputs": [],
   "source": [
    "df.head()"
   ]
  },
  {
   "cell_type": "markdown",
   "id": "12f1ecd9",
   "metadata": {},
   "source": [
    "### 3. Finding out which video category has the maximum likes"
   ]
  },
  {
   "cell_type": "code",
   "execution_count": null,
   "id": "d336ccbe",
   "metadata": {},
   "outputs": [],
   "source": [
    "# Import category file:\n",
    "cat = pd.read_csv('category_file.txt', delimiter = ':')\n",
    "# This step will help us creat a dictionary which contain category names and the ID of them."
   ]
  },
  {
   "cell_type": "code",
   "execution_count": null,
   "id": "c5d5355e",
   "metadata": {},
   "outputs": [],
   "source": [
    "cat.head()"
   ]
  },
  {
   "cell_type": "code",
   "execution_count": null,
   "id": "a408391a",
   "metadata": {},
   "outputs": [],
   "source": [
    "cat.reset_index(inplace = True)"
   ]
  },
  {
   "cell_type": "code",
   "execution_count": null,
   "id": "479df6c5",
   "metadata": {},
   "outputs": [],
   "source": [
    "cat.columns = ['Category_id', 'Category_name']"
   ]
  },
  {
   "cell_type": "code",
   "execution_count": null,
   "id": "7ccc28cf",
   "metadata": {},
   "outputs": [],
   "source": [
    "cat = cat.set_index('Category_id')"
   ]
  },
  {
   "cell_type": "code",
   "execution_count": null,
   "id": "cdcf67e6",
   "metadata": {},
   "outputs": [],
   "source": [
    "cat.head()"
   ]
  },
  {
   "cell_type": "code",
   "execution_count": null,
   "id": "a0463ffb",
   "metadata": {},
   "outputs": [],
   "source": [
    "cat_dict = cat.to_dict()"
   ]
  },
  {
   "cell_type": "code",
   "execution_count": null,
   "id": "4ef1805d",
   "metadata": {},
   "outputs": [],
   "source": [
    "cat_dict = cat_dict['Category_name']"
   ]
  },
  {
   "cell_type": "code",
   "execution_count": null,
   "id": "86465d85",
   "metadata": {},
   "outputs": [],
   "source": [
    "cat_dict\n",
    "# Now we have the category dictionary we need."
   ]
  },
  {
   "cell_type": "code",
   "execution_count": null,
   "id": "93338c9d",
   "metadata": {},
   "outputs": [],
   "source": [
    "# From the dictionary we have just created, we add a column contain all the category names of videos in the df.\n",
    "df['category_name'] = df['category_id'].map(cat_dict)"
   ]
  },
  {
   "cell_type": "code",
   "execution_count": null,
   "id": "aa08aa98",
   "metadata": {},
   "outputs": [],
   "source": [
    "df.head()\n",
    "# We got that 'category_name' in the last of the frame."
   ]
  },
  {
   "cell_type": "code",
   "execution_count": null,
   "id": "789d7985",
   "metadata": {},
   "outputs": [],
   "source": [
    "sns.set_theme(style = 'whitegrid') # Set white grid theme so we can see the chart more clearly."
   ]
  },
  {
   "cell_type": "code",
   "execution_count": null,
   "id": "f095b992",
   "metadata": {
    "scrolled": true
   },
   "outputs": [],
   "source": [
    "# Now it's time to create a box plot to see which category have most likes on YouTube:\n",
    "plt.figure(figsize = (10,3))\n",
    "sns.boxplot(data = df, x = 'category_name', y = 'likes')\n",
    "plt.xticks(rotation = 'vertical')\n",
    "plt.show()\n",
    "plt.savefig('mostlikes.png')"
   ]
  },
  {
   "cell_type": "code",
   "execution_count": null,
   "id": "b038b00d",
   "metadata": {},
   "outputs": [],
   "source": [
    "# We can finding out which categories have most views also:\n",
    "plt.figure(figsize = (10,3))\n",
    "sns.boxplot(data = df, x = 'category_name', y = 'views')\n",
    "plt.xticks(rotation = 'vertical')\n",
    "plt.savefig('mostviews.png')\n",
    "plt.show()"
   ]
  },
  {
   "cell_type": "markdown",
   "id": "d8001f6d",
   "metadata": {},
   "source": [
    "#### Comment: From the box plot above, we can see that Music and Entertainment category have videos which have the maximum views and likes on YouTube. That mean most of people come to YouTube to enjoy the music videos and relax by entertainment ones. Trailers have less views and likes becaus they are not released frequently, and people may consider them as advertise videos.\n",
    "#### If you want to have a better chance to have more views or likes on YouTube, try to make music contents such as create new songs, cover or remix famous songs with your own styles, realease your high quality MV... Or you can try entertainment content like doing some challenges, interesting things happen in your day, react to another videos..."
   ]
  },
  {
   "cell_type": "markdown",
   "id": "ee16e01d",
   "metadata": {},
   "source": [
    "### 5.Finding out whether the audience is engaged or not"
   ]
  },
  {
   "cell_type": "code",
   "execution_count": null,
   "id": "802bb4d2",
   "metadata": {},
   "outputs": [],
   "source": [
    "df['likes_rate'] = df['likes']/df['views']*100\n",
    "df['dislikes_rate'] = df['dislikes']/df['views']*100\n",
    "df['comment_count_rate'] = df['comment_count']/df['views']*100"
   ]
  },
  {
   "cell_type": "code",
   "execution_count": null,
   "id": "503073b3",
   "metadata": {},
   "outputs": [],
   "source": [
    "df.head()"
   ]
  },
  {
   "cell_type": "code",
   "execution_count": null,
   "id": "4bf7c743",
   "metadata": {
    "scrolled": true
   },
   "outputs": [],
   "source": [
    "plt.figure(figsize = (12,8))\n",
    "sns.boxplot(data = df, x= 'category_name', y = 'likes_rate')\n",
    "plt.xticks(rotation = 'vertical')\n",
    "plt.show()"
   ]
  },
  {
   "cell_type": "code",
   "execution_count": null,
   "id": "3ea72fe5",
   "metadata": {},
   "outputs": [],
   "source": [
    "plt.figure(figsize = (12,8))\n",
    "sns.boxplot(data = df, x= 'category_name', y = 'comment_count_rate')\n",
    "plt.xticks(rotation = 'vertical')\n",
    "plt.show()"
   ]
  },
  {
   "cell_type": "code",
   "execution_count": null,
   "id": "691acf3c",
   "metadata": {},
   "outputs": [],
   "source": [
    "# Analysing relationship between views and likes (dislikes, comment count):"
   ]
  },
  {
   "cell_type": "code",
   "execution_count": null,
   "id": "3bf0bf24",
   "metadata": {},
   "outputs": [],
   "source": [
    "df[['views', 'likes', 'dislikes', 'comment_count']]"
   ]
  },
  {
   "cell_type": "code",
   "execution_count": null,
   "id": "dd47a086",
   "metadata": {},
   "outputs": [],
   "source": [
    "sns.heatmap(df[['views', 'likes', 'dislikes', 'comment_count']].corr(), annot = True)"
   ]
  },
  {
   "cell_type": "code",
   "execution_count": null,
   "id": "f2496795",
   "metadata": {},
   "outputs": [],
   "source": [
    "## --> Views have a good correlation with Likes and have a poor correlation with Dislikes"
   ]
  },
  {
   "cell_type": "code",
   "execution_count": null,
   "id": "71ff4c71",
   "metadata": {},
   "outputs": [],
   "source": [
    "sns.regplot(data = df, x= 'views', y= 'likes', color= 'blue')\n",
    "plt.show()"
   ]
  },
  {
   "cell_type": "code",
   "execution_count": null,
   "id": "e2e04cec",
   "metadata": {},
   "outputs": [],
   "source": [
    "sns.regplot(data = df, x= 'views', y= 'dislikes', color= 'red')\n",
    "plt.show()"
   ]
  },
  {
   "cell_type": "code",
   "execution_count": null,
   "id": "2635bd90",
   "metadata": {},
   "outputs": [],
   "source": [
    "sns.regplot(data = df, x= 'views', y= 'comment_count', color= 'green')\n",
    "plt.show()"
   ]
  },
  {
   "cell_type": "markdown",
   "id": "46df8ff3",
   "metadata": {},
   "source": [
    "### 6. Which YouTube channels have the largest number of trending videos?"
   ]
  },
  {
   "cell_type": "code",
   "execution_count": null,
   "id": "821b8b9a",
   "metadata": {},
   "outputs": [],
   "source": [
    "# Create a data containing channel titles and the number of their videos\n",
    "df_chan = df.copy()"
   ]
  },
  {
   "cell_type": "code",
   "execution_count": null,
   "id": "fa2fa414",
   "metadata": {},
   "outputs": [],
   "source": [
    "df_chan = df_chan.groupby('channel_title')['video_id'].count().sort_values(ascending = False)"
   ]
  },
  {
   "cell_type": "code",
   "execution_count": null,
   "id": "9b33d195",
   "metadata": {},
   "outputs": [],
   "source": [
    "top10_chan = df_chan.head(10)"
   ]
  },
  {
   "cell_type": "code",
   "execution_count": null,
   "id": "364c1796",
   "metadata": {},
   "outputs": [],
   "source": [
    "top10_chan"
   ]
  },
  {
   "cell_type": "code",
   "execution_count": null,
   "id": "72005b57",
   "metadata": {},
   "outputs": [],
   "source": [
    "top10_chan = top10_chan.to_frame().reset_index().rename(columns = {'video_id':'total_video'})"
   ]
  },
  {
   "cell_type": "code",
   "execution_count": null,
   "id": "70858e7c",
   "metadata": {},
   "outputs": [],
   "source": [
    "top10_chan"
   ]
  },
  {
   "cell_type": "code",
   "execution_count": null,
   "id": "76e5c23c",
   "metadata": {
    "scrolled": false
   },
   "outputs": [],
   "source": [
    "# Using bar plot to analyse the data:\n",
    "sns.barplot(data= top10_chan, x = 'channel_title', y = 'total_video')\n",
    "plt.xticks(rotation = 'vertical')\n",
    "plt.show()"
   ]
  },
  {
   "cell_type": "code",
   "execution_count": null,
   "id": "b3557026",
   "metadata": {},
   "outputs": [],
   "source": [
    "## --> The Late Show channels have the largest number of videos on Youtube"
   ]
  },
  {
   "cell_type": "code",
   "execution_count": null,
   "id": "3160ea7d",
   "metadata": {},
   "outputs": [],
   "source": [
    "#Using plotly:"
   ]
  },
  {
   "cell_type": "code",
   "execution_count": null,
   "id": "c6a9315e",
   "metadata": {},
   "outputs": [],
   "source": [
    "import plotly.express as px"
   ]
  },
  {
   "cell_type": "code",
   "execution_count": null,
   "id": "0e832480",
   "metadata": {},
   "outputs": [],
   "source": [
    "px.bar(data_frame = top10_chan, x = 'channel_title', y = 'total_video')"
   ]
  },
  {
   "cell_type": "markdown",
   "id": "a79851bf",
   "metadata": {},
   "source": [
    "### 7. Does Punctuations in title and tags have any relation with views, likes, dislikes comments?"
   ]
  },
  {
   "cell_type": "code",
   "execution_count": null,
   "id": "788f2a0e",
   "metadata": {},
   "outputs": [],
   "source": [
    "import string"
   ]
  },
  {
   "cell_type": "code",
   "execution_count": null,
   "id": "05cf0c9b",
   "metadata": {},
   "outputs": [],
   "source": [
    "def count_punctuation(x):\n",
    "    return len([i for i in x if i in string.punctuation])"
   ]
  },
  {
   "cell_type": "code",
   "execution_count": null,
   "id": "12d7b1af",
   "metadata": {},
   "outputs": [],
   "source": [
    "sample = df.head(10000)"
   ]
  },
  {
   "cell_type": "code",
   "execution_count": null,
   "id": "64705b53",
   "metadata": {},
   "outputs": [],
   "source": [
    "sample['punctuation'] = sample['title'].apply(count_punctuation)"
   ]
  },
  {
   "cell_type": "code",
   "execution_count": null,
   "id": "c3ed9a93",
   "metadata": {},
   "outputs": [],
   "source": [
    "sample.head()"
   ]
  },
  {
   "cell_type": "code",
   "execution_count": null,
   "id": "067ef3ec",
   "metadata": {},
   "outputs": [],
   "source": [
    "plt.figure(figsize = (12,8))\n",
    "sns.boxplot(data = sample, x = 'punctuation', y = 'views')\n",
    "plt.show()"
   ]
  },
  {
   "cell_type": "code",
   "execution_count": null,
   "id": "0bcc1eba",
   "metadata": {},
   "outputs": [],
   "source": [
    "plt.figure(figsize = (12,8))\n",
    "sns.boxplot(data = sample, x = 'punctuation', y = 'likes')\n",
    "plt.show()"
   ]
  },
  {
   "cell_type": "code",
   "execution_count": null,
   "id": "1733c53d",
   "metadata": {},
   "outputs": [],
   "source": [
    "plt.figure(figsize = (12,8))\n",
    "sns.boxplot(data = sample, x = 'punctuation', y = 'comment_count')\n",
    "plt.show()"
   ]
  },
  {
   "cell_type": "code",
   "execution_count": null,
   "id": "1a6b8774",
   "metadata": {},
   "outputs": [],
   "source": [
    "# --> Videos having 1-3 punctuations in their titles have more views, likes, and comments from the audience."
   ]
  },
  {
   "cell_type": "code",
   "execution_count": null,
   "id": "e8510319",
   "metadata": {},
   "outputs": [],
   "source": []
  }
 ],
 "metadata": {
  "interpreter": {
   "hash": "91172ab8590de31bdc80bc28668832ec619095958a37545344f915e8b2200e13"
  },
  "kernelspec": {
   "display_name": "Python 3",
   "language": "python",
   "name": "python3"
  },
  "language_info": {
   "codemirror_mode": {
    "name": "ipython",
    "version": 3
   },
   "file_extension": ".py",
   "mimetype": "text/x-python",
   "name": "python",
   "nbconvert_exporter": "python",
   "pygments_lexer": "ipython3",
   "version": "3.8.8"
  }
 },
 "nbformat": 4,
 "nbformat_minor": 5
}
