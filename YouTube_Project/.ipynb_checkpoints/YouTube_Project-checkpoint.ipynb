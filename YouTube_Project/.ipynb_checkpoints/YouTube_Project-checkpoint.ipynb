{
 "cells": [
  {
   "cell_type": "code",
   "execution_count": 1,
   "id": "a0d123fc",
   "metadata": {},
   "outputs": [],
   "source": [
    "# Import all the necessary packages"
   ]
  },
  {
   "cell_type": "code",
   "execution_count": 2,
   "id": "adcccae3",
   "metadata": {},
   "outputs": [],
   "source": [
    "import numpy as np\n",
    "import pandas as pd\n",
    "import matplotlib.pyplot as plt\n",
    "import seaborn as sns\n",
    "from warnings import filterwarnings\n",
    "filterwarnings('ignore')"
   ]
  },
  {
   "cell_type": "code",
   "execution_count": 3,
   "id": "1ab9551d",
   "metadata": {},
   "outputs": [
    {
     "name": "stdout",
     "output_type": "stream",
     "text": [
      "5\n"
     ]
    }
   ],
   "source": [
    "print(5)"
   ]
  },
  {
   "cell_type": "code",
   "execution_count": 4,
   "id": "55bd0318",
   "metadata": {},
   "outputs": [
    {
     "ename": "FileNotFoundError",
     "evalue": "[Errno 2] No such file or directory: 'UScomments.csv'",
     "output_type": "error",
     "traceback": [
      "\u001b[1;31m---------------------------------------------------------------------------\u001b[0m",
      "\u001b[1;31mFileNotFoundError\u001b[0m                         Traceback (most recent call last)",
      "\u001b[1;32m<ipython-input-4-da396ff41d2d>\u001b[0m in \u001b[0;36m<module>\u001b[1;34m\u001b[0m\n\u001b[1;32m----> 1\u001b[1;33m \u001b[0mall_comment\u001b[0m \u001b[1;33m=\u001b[0m \u001b[0mpd\u001b[0m\u001b[1;33m.\u001b[0m\u001b[0mread_csv\u001b[0m\u001b[1;33m(\u001b[0m\u001b[1;34m'UScomments.csv'\u001b[0m\u001b[1;33m,\u001b[0m \u001b[0merror_bad_lines\u001b[0m\u001b[1;33m=\u001b[0m \u001b[1;32mFalse\u001b[0m\u001b[1;33m)\u001b[0m\u001b[1;33m\u001b[0m\u001b[1;33m\u001b[0m\u001b[0m\n\u001b[0m",
      "\u001b[1;32m~\\anaconda3\\lib\\site-packages\\pandas\\util\\_decorators.py\u001b[0m in \u001b[0;36mwrapper\u001b[1;34m(*args, **kwargs)\u001b[0m\n\u001b[0;32m    309\u001b[0m                     \u001b[0mstacklevel\u001b[0m\u001b[1;33m=\u001b[0m\u001b[0mstacklevel\u001b[0m\u001b[1;33m,\u001b[0m\u001b[1;33m\u001b[0m\u001b[1;33m\u001b[0m\u001b[0m\n\u001b[0;32m    310\u001b[0m                 )\n\u001b[1;32m--> 311\u001b[1;33m             \u001b[1;32mreturn\u001b[0m \u001b[0mfunc\u001b[0m\u001b[1;33m(\u001b[0m\u001b[1;33m*\u001b[0m\u001b[0margs\u001b[0m\u001b[1;33m,\u001b[0m \u001b[1;33m**\u001b[0m\u001b[0mkwargs\u001b[0m\u001b[1;33m)\u001b[0m\u001b[1;33m\u001b[0m\u001b[1;33m\u001b[0m\u001b[0m\n\u001b[0m\u001b[0;32m    312\u001b[0m \u001b[1;33m\u001b[0m\u001b[0m\n\u001b[0;32m    313\u001b[0m         \u001b[1;32mreturn\u001b[0m \u001b[0mwrapper\u001b[0m\u001b[1;33m\u001b[0m\u001b[1;33m\u001b[0m\u001b[0m\n",
      "\u001b[1;32m~\\anaconda3\\lib\\site-packages\\pandas\\io\\parsers\\readers.py\u001b[0m in \u001b[0;36mread_csv\u001b[1;34m(filepath_or_buffer, sep, delimiter, header, names, index_col, usecols, squeeze, prefix, mangle_dupe_cols, dtype, engine, converters, true_values, false_values, skipinitialspace, skiprows, skipfooter, nrows, na_values, keep_default_na, na_filter, verbose, skip_blank_lines, parse_dates, infer_datetime_format, keep_date_col, date_parser, dayfirst, cache_dates, iterator, chunksize, compression, thousands, decimal, lineterminator, quotechar, quoting, doublequote, escapechar, comment, encoding, encoding_errors, dialect, error_bad_lines, warn_bad_lines, on_bad_lines, delim_whitespace, low_memory, memory_map, float_precision, storage_options)\u001b[0m\n\u001b[0;32m    584\u001b[0m     \u001b[0mkwds\u001b[0m\u001b[1;33m.\u001b[0m\u001b[0mupdate\u001b[0m\u001b[1;33m(\u001b[0m\u001b[0mkwds_defaults\u001b[0m\u001b[1;33m)\u001b[0m\u001b[1;33m\u001b[0m\u001b[1;33m\u001b[0m\u001b[0m\n\u001b[0;32m    585\u001b[0m \u001b[1;33m\u001b[0m\u001b[0m\n\u001b[1;32m--> 586\u001b[1;33m     \u001b[1;32mreturn\u001b[0m \u001b[0m_read\u001b[0m\u001b[1;33m(\u001b[0m\u001b[0mfilepath_or_buffer\u001b[0m\u001b[1;33m,\u001b[0m \u001b[0mkwds\u001b[0m\u001b[1;33m)\u001b[0m\u001b[1;33m\u001b[0m\u001b[1;33m\u001b[0m\u001b[0m\n\u001b[0m\u001b[0;32m    587\u001b[0m \u001b[1;33m\u001b[0m\u001b[0m\n\u001b[0;32m    588\u001b[0m \u001b[1;33m\u001b[0m\u001b[0m\n",
      "\u001b[1;32m~\\anaconda3\\lib\\site-packages\\pandas\\io\\parsers\\readers.py\u001b[0m in \u001b[0;36m_read\u001b[1;34m(filepath_or_buffer, kwds)\u001b[0m\n\u001b[0;32m    480\u001b[0m \u001b[1;33m\u001b[0m\u001b[0m\n\u001b[0;32m    481\u001b[0m     \u001b[1;31m# Create the parser.\u001b[0m\u001b[1;33m\u001b[0m\u001b[1;33m\u001b[0m\u001b[1;33m\u001b[0m\u001b[0m\n\u001b[1;32m--> 482\u001b[1;33m     \u001b[0mparser\u001b[0m \u001b[1;33m=\u001b[0m \u001b[0mTextFileReader\u001b[0m\u001b[1;33m(\u001b[0m\u001b[0mfilepath_or_buffer\u001b[0m\u001b[1;33m,\u001b[0m \u001b[1;33m**\u001b[0m\u001b[0mkwds\u001b[0m\u001b[1;33m)\u001b[0m\u001b[1;33m\u001b[0m\u001b[1;33m\u001b[0m\u001b[0m\n\u001b[0m\u001b[0;32m    483\u001b[0m \u001b[1;33m\u001b[0m\u001b[0m\n\u001b[0;32m    484\u001b[0m     \u001b[1;32mif\u001b[0m \u001b[0mchunksize\u001b[0m \u001b[1;32mor\u001b[0m \u001b[0miterator\u001b[0m\u001b[1;33m:\u001b[0m\u001b[1;33m\u001b[0m\u001b[1;33m\u001b[0m\u001b[0m\n",
      "\u001b[1;32m~\\anaconda3\\lib\\site-packages\\pandas\\io\\parsers\\readers.py\u001b[0m in \u001b[0;36m__init__\u001b[1;34m(self, f, engine, **kwds)\u001b[0m\n\u001b[0;32m    809\u001b[0m             \u001b[0mself\u001b[0m\u001b[1;33m.\u001b[0m\u001b[0moptions\u001b[0m\u001b[1;33m[\u001b[0m\u001b[1;34m\"has_index_names\"\u001b[0m\u001b[1;33m]\u001b[0m \u001b[1;33m=\u001b[0m \u001b[0mkwds\u001b[0m\u001b[1;33m[\u001b[0m\u001b[1;34m\"has_index_names\"\u001b[0m\u001b[1;33m]\u001b[0m\u001b[1;33m\u001b[0m\u001b[1;33m\u001b[0m\u001b[0m\n\u001b[0;32m    810\u001b[0m \u001b[1;33m\u001b[0m\u001b[0m\n\u001b[1;32m--> 811\u001b[1;33m         \u001b[0mself\u001b[0m\u001b[1;33m.\u001b[0m\u001b[0m_engine\u001b[0m \u001b[1;33m=\u001b[0m \u001b[0mself\u001b[0m\u001b[1;33m.\u001b[0m\u001b[0m_make_engine\u001b[0m\u001b[1;33m(\u001b[0m\u001b[0mself\u001b[0m\u001b[1;33m.\u001b[0m\u001b[0mengine\u001b[0m\u001b[1;33m)\u001b[0m\u001b[1;33m\u001b[0m\u001b[1;33m\u001b[0m\u001b[0m\n\u001b[0m\u001b[0;32m    812\u001b[0m \u001b[1;33m\u001b[0m\u001b[0m\n\u001b[0;32m    813\u001b[0m     \u001b[1;32mdef\u001b[0m \u001b[0mclose\u001b[0m\u001b[1;33m(\u001b[0m\u001b[0mself\u001b[0m\u001b[1;33m)\u001b[0m\u001b[1;33m:\u001b[0m\u001b[1;33m\u001b[0m\u001b[1;33m\u001b[0m\u001b[0m\n",
      "\u001b[1;32m~\\anaconda3\\lib\\site-packages\\pandas\\io\\parsers\\readers.py\u001b[0m in \u001b[0;36m_make_engine\u001b[1;34m(self, engine)\u001b[0m\n\u001b[0;32m   1038\u001b[0m             )\n\u001b[0;32m   1039\u001b[0m         \u001b[1;31m# error: Too many arguments for \"ParserBase\"\u001b[0m\u001b[1;33m\u001b[0m\u001b[1;33m\u001b[0m\u001b[1;33m\u001b[0m\u001b[0m\n\u001b[1;32m-> 1040\u001b[1;33m         \u001b[1;32mreturn\u001b[0m \u001b[0mmapping\u001b[0m\u001b[1;33m[\u001b[0m\u001b[0mengine\u001b[0m\u001b[1;33m]\u001b[0m\u001b[1;33m(\u001b[0m\u001b[0mself\u001b[0m\u001b[1;33m.\u001b[0m\u001b[0mf\u001b[0m\u001b[1;33m,\u001b[0m \u001b[1;33m**\u001b[0m\u001b[0mself\u001b[0m\u001b[1;33m.\u001b[0m\u001b[0moptions\u001b[0m\u001b[1;33m)\u001b[0m  \u001b[1;31m# type: ignore[call-arg]\u001b[0m\u001b[1;33m\u001b[0m\u001b[1;33m\u001b[0m\u001b[0m\n\u001b[0m\u001b[0;32m   1041\u001b[0m \u001b[1;33m\u001b[0m\u001b[0m\n\u001b[0;32m   1042\u001b[0m     \u001b[1;32mdef\u001b[0m \u001b[0m_failover_to_python\u001b[0m\u001b[1;33m(\u001b[0m\u001b[0mself\u001b[0m\u001b[1;33m)\u001b[0m\u001b[1;33m:\u001b[0m\u001b[1;33m\u001b[0m\u001b[1;33m\u001b[0m\u001b[0m\n",
      "\u001b[1;32m~\\anaconda3\\lib\\site-packages\\pandas\\io\\parsers\\c_parser_wrapper.py\u001b[0m in \u001b[0;36m__init__\u001b[1;34m(self, src, **kwds)\u001b[0m\n\u001b[0;32m     49\u001b[0m \u001b[1;33m\u001b[0m\u001b[0m\n\u001b[0;32m     50\u001b[0m         \u001b[1;31m# open handles\u001b[0m\u001b[1;33m\u001b[0m\u001b[1;33m\u001b[0m\u001b[1;33m\u001b[0m\u001b[0m\n\u001b[1;32m---> 51\u001b[1;33m         \u001b[0mself\u001b[0m\u001b[1;33m.\u001b[0m\u001b[0m_open_handles\u001b[0m\u001b[1;33m(\u001b[0m\u001b[0msrc\u001b[0m\u001b[1;33m,\u001b[0m \u001b[0mkwds\u001b[0m\u001b[1;33m)\u001b[0m\u001b[1;33m\u001b[0m\u001b[1;33m\u001b[0m\u001b[0m\n\u001b[0m\u001b[0;32m     52\u001b[0m         \u001b[1;32massert\u001b[0m \u001b[0mself\u001b[0m\u001b[1;33m.\u001b[0m\u001b[0mhandles\u001b[0m \u001b[1;32mis\u001b[0m \u001b[1;32mnot\u001b[0m \u001b[1;32mNone\u001b[0m\u001b[1;33m\u001b[0m\u001b[1;33m\u001b[0m\u001b[0m\n\u001b[0;32m     53\u001b[0m \u001b[1;33m\u001b[0m\u001b[0m\n",
      "\u001b[1;32m~\\anaconda3\\lib\\site-packages\\pandas\\io\\parsers\\base_parser.py\u001b[0m in \u001b[0;36m_open_handles\u001b[1;34m(self, src, kwds)\u001b[0m\n\u001b[0;32m    220\u001b[0m         \u001b[0mLet\u001b[0m \u001b[0mthe\u001b[0m \u001b[0mreaders\u001b[0m \u001b[0mopen\u001b[0m \u001b[0mIOHandles\u001b[0m \u001b[0mafter\u001b[0m \u001b[0mthey\u001b[0m \u001b[0mare\u001b[0m \u001b[0mdone\u001b[0m \u001b[1;32mwith\u001b[0m \u001b[0mtheir\u001b[0m \u001b[0mpotential\u001b[0m \u001b[0mraises\u001b[0m\u001b[1;33m.\u001b[0m\u001b[1;33m\u001b[0m\u001b[1;33m\u001b[0m\u001b[0m\n\u001b[0;32m    221\u001b[0m         \"\"\"\n\u001b[1;32m--> 222\u001b[1;33m         self.handles = get_handle(\n\u001b[0m\u001b[0;32m    223\u001b[0m             \u001b[0msrc\u001b[0m\u001b[1;33m,\u001b[0m\u001b[1;33m\u001b[0m\u001b[1;33m\u001b[0m\u001b[0m\n\u001b[0;32m    224\u001b[0m             \u001b[1;34m\"r\"\u001b[0m\u001b[1;33m,\u001b[0m\u001b[1;33m\u001b[0m\u001b[1;33m\u001b[0m\u001b[0m\n",
      "\u001b[1;32m~\\anaconda3\\lib\\site-packages\\pandas\\io\\common.py\u001b[0m in \u001b[0;36mget_handle\u001b[1;34m(path_or_buf, mode, encoding, compression, memory_map, is_text, errors, storage_options)\u001b[0m\n\u001b[0;32m    700\u001b[0m         \u001b[1;32mif\u001b[0m \u001b[0mioargs\u001b[0m\u001b[1;33m.\u001b[0m\u001b[0mencoding\u001b[0m \u001b[1;32mand\u001b[0m \u001b[1;34m\"b\"\u001b[0m \u001b[1;32mnot\u001b[0m \u001b[1;32min\u001b[0m \u001b[0mioargs\u001b[0m\u001b[1;33m.\u001b[0m\u001b[0mmode\u001b[0m\u001b[1;33m:\u001b[0m\u001b[1;33m\u001b[0m\u001b[1;33m\u001b[0m\u001b[0m\n\u001b[0;32m    701\u001b[0m             \u001b[1;31m# Encoding\u001b[0m\u001b[1;33m\u001b[0m\u001b[1;33m\u001b[0m\u001b[1;33m\u001b[0m\u001b[0m\n\u001b[1;32m--> 702\u001b[1;33m             handle = open(\n\u001b[0m\u001b[0;32m    703\u001b[0m                 \u001b[0mhandle\u001b[0m\u001b[1;33m,\u001b[0m\u001b[1;33m\u001b[0m\u001b[1;33m\u001b[0m\u001b[0m\n\u001b[0;32m    704\u001b[0m                 \u001b[0mioargs\u001b[0m\u001b[1;33m.\u001b[0m\u001b[0mmode\u001b[0m\u001b[1;33m,\u001b[0m\u001b[1;33m\u001b[0m\u001b[1;33m\u001b[0m\u001b[0m\n",
      "\u001b[1;31mFileNotFoundError\u001b[0m: [Errno 2] No such file or directory: 'UScomments.csv'"
     ]
    }
   ],
   "source": [
    "all_comment = pd.read_csv('UScomments.csv', error_bad_lines= False)"
   ]
  },
  {
   "cell_type": "code",
   "execution_count": null,
   "id": "f9719ede",
   "metadata": {
    "scrolled": true
   },
   "outputs": [],
   "source": [
    "# This is the sample of comments from US YouTube for each video:\n",
    "all_comment"
   ]
  },
  {
   "cell_type": "code",
   "execution_count": null,
   "id": "e3b0837f",
   "metadata": {},
   "outputs": [],
   "source": [
    "# Finding out missing values in the data:\n",
    "all_comment.info()"
   ]
  },
  {
   "cell_type": "code",
   "execution_count": null,
   "id": "674f8b61",
   "metadata": {},
   "outputs": [],
   "source": [
    "# Drop mmissing values:\n",
    "all_comment.dropna(inplace = True)"
   ]
  },
  {
   "cell_type": "code",
   "execution_count": null,
   "id": "ac67fac1",
   "metadata": {},
   "outputs": [],
   "source": [
    "all_comment.isnull().sum()\n",
    "# There is no null value in the data"
   ]
  },
  {
   "cell_type": "markdown",
   "id": "06a55503",
   "metadata": {},
   "source": [
    "### 1.Analyse the positive and negative comments with TextBlob and WordCloud:"
   ]
  },
  {
   "cell_type": "code",
   "execution_count": null,
   "id": "130ebcc4",
   "metadata": {},
   "outputs": [],
   "source": [
    "# Using TextBlob to create positive and negative comments in the data:"
   ]
  },
  {
   "cell_type": "code",
   "execution_count": null,
   "id": "deed6412",
   "metadata": {},
   "outputs": [],
   "source": [
    "from textblob import TextBlob"
   ]
  },
  {
   "cell_type": "code",
   "execution_count": null,
   "id": "05034a80",
   "metadata": {},
   "outputs": [],
   "source": [
    "# Example:\n",
    "TextBlob('so good happy for you').sentiment.polarity"
   ]
  },
  {
   "cell_type": "code",
   "execution_count": null,
   "id": "deae42db",
   "metadata": {},
   "outputs": [],
   "source": [
    "# Create a column that contains the polarity of each comment:\n",
    "polarity = []\n",
    "for comment in all_comment['comment_text']:\n",
    "    try:\n",
    "        polarity.append(TextBlob(comment).sentiment.polarity)\n",
    "    except:\n",
    "        polarity.append(0)\n",
    "        "
   ]
  },
  {
   "cell_type": "code",
   "execution_count": null,
   "id": "90ff87fe",
   "metadata": {},
   "outputs": [],
   "source": [
    "all_comment['polarity'] = polarity"
   ]
  },
  {
   "cell_type": "code",
   "execution_count": null,
   "id": "c18dcb52",
   "metadata": {},
   "outputs": [],
   "source": [
    "all_comment.head()"
   ]
  },
  {
   "cell_type": "code",
   "execution_count": null,
   "id": "5693548e",
   "metadata": {},
   "outputs": [],
   "source": [
    "cmt_positive = all_comment[all_comment['polarity'] == 1]\n",
    "cmt_negative = all_comment[all_comment['polarity'] == -1]"
   ]
  },
  {
   "cell_type": "code",
   "execution_count": null,
   "id": "657fc50a",
   "metadata": {},
   "outputs": [],
   "source": [
    "# This is the data where comments are positive (polarity = 1.0)\n",
    "cmt_positive.head()"
   ]
  },
  {
   "cell_type": "code",
   "execution_count": null,
   "id": "019e5336",
   "metadata": {},
   "outputs": [],
   "source": [
    "# And this is the data of negative comments (polarity = -1.0)\n",
    "cmt_negative.head()"
   ]
  },
  {
   "cell_type": "code",
   "execution_count": null,
   "id": "406f7afb",
   "metadata": {},
   "outputs": [],
   "source": [
    "# Using WordCloud to show which words are used the most in positive and negative comments:"
   ]
  },
  {
   "cell_type": "code",
   "execution_count": null,
   "id": "fd43a9b6",
   "metadata": {},
   "outputs": [],
   "source": [
    "from wordcloud import WordCloud, STOPWORDS"
   ]
  },
  {
   "cell_type": "code",
   "execution_count": null,
   "id": "0565f416",
   "metadata": {},
   "outputs": [],
   "source": [
    "total_cmt_p = ''.join(cmt_positive['comment_text'])\n",
    "total_cmt_n = ''.join(cmt_negative['comment_text'])"
   ]
  },
  {
   "cell_type": "code",
   "execution_count": null,
   "id": "bc8f1d79",
   "metadata": {},
   "outputs": [],
   "source": [
    "wordcloud = WordCloud(stopwords= set(STOPWORDS)).generate(total_cmt_p)\n",
    "plt.figure(figsize = (12,5))\n",
    "plt.imshow(wordcloud)\n",
    "plt.axis('off')\n",
    "plt.savefig('positive')"
   ]
  },
  {
   "cell_type": "code",
   "execution_count": null,
   "id": "a629c977",
   "metadata": {
    "scrolled": true
   },
   "outputs": [],
   "source": [
    "wordcloud = WordCloud(stopwords= set(STOPWORDS)).generate(total_cmt_n)\n",
    "plt.figure(figsize = (12,5))\n",
    "plt.imshow(wordcloud)\n",
    "plt.axis('off')\n",
    "plt.savefig('negative')"
   ]
  },
  {
   "cell_type": "markdown",
   "id": "7feda75e",
   "metadata": {},
   "source": [
    "### 2.Performing Emoji analysis"
   ]
  },
  {
   "cell_type": "code",
   "execution_count": null,
   "id": "4a80b91a",
   "metadata": {},
   "outputs": [],
   "source": [
    "import emoji"
   ]
  },
  {
   "cell_type": "code",
   "execution_count": null,
   "id": "58e11eb4",
   "metadata": {},
   "outputs": [],
   "source": [
    "# Creat a list of all emoji used in the comments\n",
    "emoji_list = []\n",
    "for comment in all_comment['comment_text']:\n",
    "    for char in comment:\n",
    "        if char in emoji.UNICODE_EMOJI_ENGLISH:\n",
    "            emoji_list.append(char)"
   ]
  },
  {
   "cell_type": "code",
   "execution_count": null,
   "id": "431a864d",
   "metadata": {},
   "outputs": [],
   "source": [
    "from collections import Counter\n",
    "# This library help us to count the emoji values."
   ]
  },
  {
   "cell_type": "code",
   "execution_count": null,
   "id": "446f7a39",
   "metadata": {},
   "outputs": [],
   "source": [
    "common_emo = Counter(emoji_list).most_common(10)\n",
    "# Count and extract top 10 common emoji used."
   ]
  },
  {
   "cell_type": "code",
   "execution_count": null,
   "id": "908f601b",
   "metadata": {},
   "outputs": [],
   "source": [
    "common_emo"
   ]
  },
  {
   "cell_type": "code",
   "execution_count": null,
   "id": "12822027",
   "metadata": {},
   "outputs": [],
   "source": [
    "emo = [common_emo[i][0] for i in range(10)]\n",
    "emo\n",
    "# Take out 10 emoji for x-axis values."
   ]
  },
  {
   "cell_type": "code",
   "execution_count": null,
   "id": "cf66a1c0",
   "metadata": {},
   "outputs": [],
   "source": [
    "freq = [common_emo[i][1] for i in range(10)]\n",
    "freq\n",
    "# Take out their count for y-axis values."
   ]
  },
  {
   "cell_type": "code",
   "execution_count": null,
   "id": "ced9c09e",
   "metadata": {},
   "outputs": [],
   "source": [
    "# Now we have x-axis and y-axis so this is time for building a bar chart.\n",
    "import plotly.graph_objs as go\n",
    "from plotly.offline import iplot"
   ]
  },
  {
   "cell_type": "code",
   "execution_count": null,
   "id": "27c0a20c",
   "metadata": {},
   "outputs": [],
   "source": [
    "trace = go.Bar(x = emo, y = freq, width= 0.7)\n",
    "iplot([trace])"
   ]
  },
  {
   "cell_type": "markdown",
   "id": "349e844e",
   "metadata": {},
   "source": [
    "#### Comment: As we can see, most of them are happy, like, encourage... emoji. We can see that viewers use more emoji when they love the video. The more they use emoji, the more they love your video. If people didnt use emoji in their comment, you can consider that if they don't like your video or not."
   ]
  },
  {
   "cell_type": "markdown",
   "id": "043c1ac6",
   "metadata": {},
   "source": [
    "### (*) Collecting the YouTube video data"
   ]
  },
  {
   "cell_type": "code",
   "execution_count": null,
   "id": "519da7c9",
   "metadata": {},
   "outputs": [],
   "source": [
    "# Import the additional video data first."
   ]
  },
  {
   "cell_type": "code",
   "execution_count": null,
   "id": "d3be85ef",
   "metadata": {},
   "outputs": [],
   "source": [
    "# To do this we need OS library to take the all the file name we want:\n",
    "import os"
   ]
  },
  {
   "cell_type": "code",
   "execution_count": null,
   "id": "d79ab0fd",
   "metadata": {},
   "outputs": [],
   "source": [
    "path = r'./additional_data'"
   ]
  },
  {
   "cell_type": "code",
   "execution_count": null,
   "id": "c829a764",
   "metadata": {},
   "outputs": [],
   "source": [
    "file_name = os.listdir(path)\n",
    "file_name\n",
    "# Here are all the file name we want (This dataset only contain YouTube video data in some developed countries, not all the world)"
   ]
  },
  {
   "cell_type": "code",
   "execution_count": null,
   "id": "8b306caf",
   "metadata": {},
   "outputs": [],
   "source": [
    "len(file_name)"
   ]
  },
  {
   "cell_type": "code",
   "execution_count": null,
   "id": "bfeea1ab",
   "metadata": {},
   "outputs": [],
   "source": [
    "file_csv = [file_name[i] for i in range(0,20,2)]\n",
    "file_csv"
   ]
  },
  {
   "cell_type": "code",
   "execution_count": null,
   "id": "69556e03",
   "metadata": {},
   "outputs": [],
   "source": [
    "df = pd.DataFrame()\n",
    "for file in file_csv:\n",
    "    current_df = pd.read_csv(path + '/' + file, error_bad_lines= False, encoding='iso-8859-1')\n",
    "    # We need 'iso-8859-1' to encode the data  here to prevent errors.\n",
    "    df = pd.concat([df, current_df])"
   ]
  },
  {
   "cell_type": "code",
   "execution_count": null,
   "id": "6ce52e46",
   "metadata": {},
   "outputs": [],
   "source": [
    "df.head()"
   ]
  },
  {
   "cell_type": "markdown",
   "id": "12f1ecd9",
   "metadata": {},
   "source": [
    "### 3. Finding out which video category has the maximum likes"
   ]
  },
  {
   "cell_type": "code",
   "execution_count": null,
   "id": "d336ccbe",
   "metadata": {},
   "outputs": [],
   "source": [
    "# Import category file:\n",
    "cat = pd.read_csv('category_file.txt', delimiter = ':')\n",
    "# This step will help us creat a dictionary which contain category names and the ID of them."
   ]
  },
  {
   "cell_type": "code",
   "execution_count": null,
   "id": "c5d5355e",
   "metadata": {},
   "outputs": [],
   "source": [
    "cat.head()"
   ]
  },
  {
   "cell_type": "code",
   "execution_count": null,
   "id": "a408391a",
   "metadata": {},
   "outputs": [],
   "source": [
    "cat.reset_index(inplace = True)"
   ]
  },
  {
   "cell_type": "code",
   "execution_count": null,
   "id": "479df6c5",
   "metadata": {},
   "outputs": [],
   "source": [
    "cat.columns = ['Category_id', 'Category_name']"
   ]
  },
  {
   "cell_type": "code",
   "execution_count": null,
   "id": "7ccc28cf",
   "metadata": {},
   "outputs": [],
   "source": [
    "cat = cat.set_index('Category_id')"
   ]
  },
  {
   "cell_type": "code",
   "execution_count": null,
   "id": "cdcf67e6",
   "metadata": {},
   "outputs": [],
   "source": [
    "cat.head()"
   ]
  },
  {
   "cell_type": "code",
   "execution_count": null,
   "id": "a0463ffb",
   "metadata": {},
   "outputs": [],
   "source": [
    "cat_dict = cat.to_dict()"
   ]
  },
  {
   "cell_type": "code",
   "execution_count": null,
   "id": "4ef1805d",
   "metadata": {},
   "outputs": [],
   "source": [
    "cat_dict = cat_dict['Category_name']"
   ]
  },
  {
   "cell_type": "code",
   "execution_count": null,
   "id": "86465d85",
   "metadata": {},
   "outputs": [],
   "source": [
    "cat_dict\n",
    "# Now we have the category dictionary we need."
   ]
  },
  {
   "cell_type": "code",
   "execution_count": null,
   "id": "93338c9d",
   "metadata": {},
   "outputs": [],
   "source": [
    "# From the dictionary we have just created, we add a column contain all the category names of videos in the df.\n",
    "df['category_name'] = df['category_id'].map(cat_dict)"
   ]
  },
  {
   "cell_type": "code",
   "execution_count": null,
   "id": "aa08aa98",
   "metadata": {},
   "outputs": [],
   "source": [
    "df.head()\n",
    "# We got that 'category_name' in the last of the frame."
   ]
  },
  {
   "cell_type": "code",
   "execution_count": null,
   "id": "789d7985",
   "metadata": {},
   "outputs": [],
   "source": [
    "sns.set_theme(style = 'whitegrid') # Set white grid theme so we can see the chart more clearly."
   ]
  },
  {
   "cell_type": "code",
   "execution_count": null,
   "id": "f095b992",
   "metadata": {
    "scrolled": true
   },
   "outputs": [],
   "source": [
    "# Now it's time to create a box plot to see which category have most likes on YouTube:\n",
    "plt.figure(figsize = (10,3))\n",
    "sns.boxplot(data = df, x = 'category_name', y = 'likes')\n",
    "plt.xticks(rotation = 'vertical')\n",
    "plt.show()\n",
    "plt.savefig('mostlikes.png')"
   ]
  },
  {
   "cell_type": "code",
   "execution_count": null,
   "id": "b038b00d",
   "metadata": {},
   "outputs": [],
   "source": [
    "# We can finding out which categories have most views also:\n",
    "plt.figure(figsize = (10,3))\n",
    "sns.boxplot(data = df, x = 'category_name', y = 'views')\n",
    "plt.xticks(rotation = 'vertical')\n",
    "plt.savefig('mostviews.png')\n",
    "plt.show()"
   ]
  },
  {
   "cell_type": "markdown",
   "id": "d8001f6d",
   "metadata": {},
   "source": [
    "#### Comment: From the box plot above, we can see that Music and Entertainment category have videos which have the maximum views and likes on YouTube. That mean most of people come to YouTube to enjoy the music videos and relax by entertainment ones. Trailers have less views and likes becaus they are not released frequently, and people may consider them as advertise videos.\n",
    "#### If you want to have a better chance to have more views or likes on YouTube, try to make music contents such as create new songs, cover or remix famous songs with your own styles, realease your high quality MV... Or you can try entertainment content like doing some challenges, interesting things happen in your day, react to another videos..."
   ]
  },
  {
   "cell_type": "markdown",
   "id": "ee16e01d",
   "metadata": {},
   "source": [
    "### 4.Finding out whether the audience reacted with the videos or not"
   ]
  },
  {
   "cell_type": "code",
   "execution_count": null,
   "id": "802bb4d2",
   "metadata": {},
   "outputs": [],
   "source": [
    "df['likes_rate'] = df['likes']/df['views']*100\n",
    "df['dislikes_rate'] = df['dislikes']/df['views']*100\n",
    "df['comment_count_rate'] = df['comment_count']/df['views']*100"
   ]
  },
  {
   "cell_type": "code",
   "execution_count": null,
   "id": "503073b3",
   "metadata": {},
   "outputs": [],
   "source": [
    "df.head()"
   ]
  },
  {
   "cell_type": "code",
   "execution_count": null,
   "id": "4bf7c743",
   "metadata": {
    "scrolled": true
   },
   "outputs": [],
   "source": [
    "plt.figure(figsize = (10,3))\n",
    "sns.boxplot(data = df, x= 'category_name', y = 'likes_rate')\n",
    "plt.xticks(rotation = 'vertical')\n",
    "plt.show()"
   ]
  },
  {
   "cell_type": "code",
   "execution_count": null,
   "id": "3ea72fe5",
   "metadata": {
    "scrolled": true
   },
   "outputs": [],
   "source": [
    "plt.figure(figsize = (10,3))\n",
    "sns.boxplot(data = df, x= 'category_name', y = 'comment_count_rate')\n",
    "plt.xticks(rotation = 'vertical')\n",
    "plt.show()"
   ]
  },
  {
   "cell_type": "code",
   "execution_count": null,
   "id": "aa84ba37",
   "metadata": {},
   "outputs": [],
   "source": [
    "plt.figure(figsize = (10,3))\n",
    "sns.boxplot(data = df, x= 'category_name', y = 'dislikes_rate')\n",
    "plt.xticks(rotation = 'vertical')\n",
    "plt.show()"
   ]
  },
  {
   "cell_type": "markdown",
   "id": "25193363",
   "metadata": {},
   "source": [
    "#### Comment: 3 box plots above show us how the viewers reacted to the videos. People used like button more frequently than dislike or leaving a comment. I can say that it is easier to like a video than dislike or comment on it. Because if people don't really like the video, even they hate it, they just can ignore it and watch another one which is more interesting. Some categories like 'News and Politic', 'People and Blogs', 'Nonprofit and Activism' which have high oppotunity to offense someone; or 'Entertainment', 'Gaming', 'Sience & Technology' which have rich contents for people to discuss, they have higher dislike rate or comment rate than others.\n",
    "#### We can look at 'Gaming' and 'Sience & Technology' categories, they have high rate of like and comment but low rate of dislike. These categories are really adtractive and being loved by the people.So if you want your viewers have good reactions on your videos, try create videos about gaming, science or technology."
   ]
  },
  {
   "cell_type": "code",
   "execution_count": null,
   "id": "691acf3c",
   "metadata": {},
   "outputs": [],
   "source": [
    "# Analysing relationship between views and likes (dislikes, comment count):"
   ]
  },
  {
   "cell_type": "code",
   "execution_count": null,
   "id": "3bf0bf24",
   "metadata": {},
   "outputs": [],
   "source": [
    "df[['views', 'likes', 'dislikes', 'comment_count']]"
   ]
  },
  {
   "cell_type": "code",
   "execution_count": null,
   "id": "dd47a086",
   "metadata": {},
   "outputs": [],
   "source": [
    "sns.heatmap(df[['views', 'likes', 'dislikes', 'comment_count']].corr(), annot = True)"
   ]
  },
  {
   "cell_type": "code",
   "execution_count": null,
   "id": "f2496795",
   "metadata": {},
   "outputs": [],
   "source": [
    "## --> Views have a good correlation with Likes and have a poor correlation with Dislikes"
   ]
  },
  {
   "cell_type": "code",
   "execution_count": null,
   "id": "71ff4c71",
   "metadata": {},
   "outputs": [],
   "source": [
    "sns.regplot(data = df, x= 'views', y= 'likes', color= 'blue')\n",
    "plt.show()"
   ]
  },
  {
   "cell_type": "code",
   "execution_count": null,
   "id": "e2e04cec",
   "metadata": {},
   "outputs": [],
   "source": [
    "sns.regplot(data = df, x= 'views', y= 'dislikes', color= 'red')\n",
    "plt.show()"
   ]
  },
  {
   "cell_type": "code",
   "execution_count": null,
   "id": "2635bd90",
   "metadata": {},
   "outputs": [],
   "source": [
    "sns.regplot(data = df, x= 'views', y= 'comment_count', color= 'green')\n",
    "plt.show()"
   ]
  },
  {
   "cell_type": "markdown",
   "id": "46df8ff3",
   "metadata": {},
   "source": [
    "### 5. Which YouTube channels have the largest number of videos?"
   ]
  },
  {
   "cell_type": "code",
   "execution_count": null,
   "id": "821b8b9a",
   "metadata": {},
   "outputs": [],
   "source": [
    "# Create a data containing channel titles and the number of their videos\n",
    "df_chan = df.copy()"
   ]
  },
  {
   "cell_type": "code",
   "execution_count": null,
   "id": "fa2fa414",
   "metadata": {},
   "outputs": [],
   "source": [
    "df_chan = df_chan.groupby('channel_title')['video_id'].count().sort_values(ascending = False)"
   ]
  },
  {
   "cell_type": "code",
   "execution_count": null,
   "id": "9b33d195",
   "metadata": {},
   "outputs": [],
   "source": [
    "top10_chan = df_chan.head(10)"
   ]
  },
  {
   "cell_type": "code",
   "execution_count": null,
   "id": "364c1796",
   "metadata": {},
   "outputs": [],
   "source": [
    "top10_chan"
   ]
  },
  {
   "cell_type": "code",
   "execution_count": null,
   "id": "72005b57",
   "metadata": {},
   "outputs": [],
   "source": [
    "top10_chan = top10_chan.to_frame().reset_index().rename(columns = {'video_id':'total_video'})"
   ]
  },
  {
   "cell_type": "code",
   "execution_count": null,
   "id": "70858e7c",
   "metadata": {},
   "outputs": [],
   "source": [
    "top10_chan"
   ]
  },
  {
   "cell_type": "code",
   "execution_count": null,
   "id": "76e5c23c",
   "metadata": {
    "scrolled": false
   },
   "outputs": [],
   "source": [
    "# Using bar plot to analyse the data:\n",
    "sns.barplot(data= top10_chan, x = 'channel_title', y = 'total_video')\n",
    "plt.xticks(rotation = 'vertical')\n",
    "plt.show()"
   ]
  },
  {
   "cell_type": "markdown",
   "id": "f42ab7e2",
   "metadata": {},
   "source": [
    "#### Comment: It is obviously that the 'Late-night talk show' kinds such as 'The Late Show with Stephen Colbert', 'Late Night with Seth Meyers', 'TheEllenShow', 'Jimmy Kimmel Live'... have the lagrest number of videos. 'Late-night talk show' programs are very familiar with American since 1950s. And now they airs on YouTube mostly, so they have to release videos frequently to satisfy demand of audience. Most of these channels have a large investment and professional staff team. So as an individual YouTuber, you can pay attention to PewDiePie channel. PewDiePie is an YouTuber himself, he's making videos about gaming and his channel in the top biggest channel on YouTube."
   ]
  },
  {
   "cell_type": "code",
   "execution_count": null,
   "id": "3160ea7d",
   "metadata": {},
   "outputs": [],
   "source": [
    "#Using plotly:"
   ]
  },
  {
   "cell_type": "code",
   "execution_count": null,
   "id": "c6a9315e",
   "metadata": {},
   "outputs": [],
   "source": [
    "import plotly.express as px"
   ]
  },
  {
   "cell_type": "code",
   "execution_count": null,
   "id": "0e832480",
   "metadata": {},
   "outputs": [],
   "source": [
    "px.bar(data_frame = top10_chan, x = 'channel_title', y = 'total_video')"
   ]
  },
  {
   "cell_type": "markdown",
   "id": "a79851bf",
   "metadata": {},
   "source": [
    "### 7. Does Punctuations in title and tags have any relation with views, likes, dislikes comments?"
   ]
  },
  {
   "cell_type": "code",
   "execution_count": null,
   "id": "788f2a0e",
   "metadata": {},
   "outputs": [],
   "source": [
    "import string"
   ]
  },
  {
   "cell_type": "code",
   "execution_count": null,
   "id": "05cf0c9b",
   "metadata": {},
   "outputs": [],
   "source": [
    "def count_punctuation(x):\n",
    "    return len([i for i in x if i in string.punctuation])"
   ]
  },
  {
   "cell_type": "code",
   "execution_count": null,
   "id": "12d7b1af",
   "metadata": {},
   "outputs": [],
   "source": [
    "sample = df.head(10000)"
   ]
  },
  {
   "cell_type": "code",
   "execution_count": null,
   "id": "64705b53",
   "metadata": {},
   "outputs": [],
   "source": [
    "sample['punctuation'] = sample['title'].apply(count_punctuation)"
   ]
  },
  {
   "cell_type": "code",
   "execution_count": null,
   "id": "c3ed9a93",
   "metadata": {},
   "outputs": [],
   "source": [
    "sample.head()"
   ]
  },
  {
   "cell_type": "code",
   "execution_count": null,
   "id": "067ef3ec",
   "metadata": {},
   "outputs": [],
   "source": [
    "plt.figure(figsize = (10,3))\n",
    "sns.boxplot(data = sample, x = 'punctuation', y = 'views')\n",
    "plt.show()"
   ]
  },
  {
   "cell_type": "code",
   "execution_count": null,
   "id": "0bcc1eba",
   "metadata": {},
   "outputs": [],
   "source": [
    "plt.figure(figsize = (10,3))\n",
    "sns.boxplot(data = sample, x = 'punctuation', y = 'likes')\n",
    "plt.show()"
   ]
  },
  {
   "cell_type": "code",
   "execution_count": null,
   "id": "1733c53d",
   "metadata": {
    "scrolled": true
   },
   "outputs": [],
   "source": [
    "plt.figure(figsize = (10,3))\n",
    "sns.boxplot(data = sample, x = 'punctuation', y = 'comment_count')\n",
    "plt.show()"
   ]
  },
  {
   "cell_type": "markdown",
   "id": "e9bc160f",
   "metadata": {},
   "source": [
    "#### Comment: These chart show us that videos having 1-3 punctuations in their titles have more views, likes, and comments from the audience. It will make your title more adtractive and diferent from other videos. But using more than 8 punctuations in your video title can make the audience feel it's compicated and uncomfortable, so they could ignore your video."
   ]
  }
 ],
 "metadata": {
  "interpreter": {
   "hash": "91172ab8590de31bdc80bc28668832ec619095958a37545344f915e8b2200e13"
  },
  "kernelspec": {
   "display_name": "Python 3",
   "language": "python",
   "name": "python3"
  },
  "language_info": {
   "codemirror_mode": {
    "name": "ipython",
    "version": 3
   },
   "file_extension": ".py",
   "mimetype": "text/x-python",
   "name": "python",
   "nbconvert_exporter": "python",
   "pygments_lexer": "ipython3",
   "version": "3.8.8"
  }
 },
 "nbformat": 4,
 "nbformat_minor": 5
}
